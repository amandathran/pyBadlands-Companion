{
 "cells": [
  {
   "cell_type": "code",
   "execution_count": 1,
   "metadata": {},
   "outputs": [],
   "source": [
    "inputFileName = 'Noggin_256.xml'\n",
    "demFilePath = '../../Noggin_model/Noggin_250m__perc2_sigma3_v44.csv'\n",
    "seaLevelFilePath = '../../Noggin_model/02_SeaLevel/Miller_etal_2005.csv'\n",
    "outDir = '../../Noggin_model/output/Noggin_256/'\n"
   ]
  },
  {
   "cell_type": "code",
   "execution_count": 2,
   "metadata": {},
   "outputs": [],
   "source": [
    "import os\n",
    "from pyBadlands_companion.xmlParserPostPrc import xmlParser\n",
    "import pyBadlands_companion.toolOutput as output"
   ]
  },
  {
   "cell_type": "code",
   "execution_count": 3,
   "metadata": {},
   "outputs": [],
   "source": [
    "inputFilePath = os.path.join(outDir,inputFileName)\n",
    "modelInput = xmlParser(inputFilePath,demFilePath,seaLevelFilePath)\n",
    "dataTIN = output.badlandsOutput(folder=outDir, timestep=20)\n",
    "#"
   ]
  },
  {
   "cell_type": "code",
   "execution_count": 4,
   "metadata": {},
   "outputs": [],
   "source": [
    "dataTIN.regridTINdataSet()"
   ]
  },
  {
   "cell_type": "code",
   "execution_count": null,
   "metadata": {},
   "outputs": [],
   "source": []
  }
 ],
 "metadata": {
  "kernelspec": {
   "display_name": "Python 2",
   "language": "python",
   "name": "python2"
  },
  "language_info": {
   "codemirror_mode": {
    "name": "ipython",
    "version": 2
   },
   "file_extension": ".py",
   "mimetype": "text/x-python",
   "name": "python",
   "nbconvert_exporter": "python",
   "pygments_lexer": "ipython2",
   "version": "2.7.12"
  }
 },
 "nbformat": 4,
 "nbformat_minor": 2
}
